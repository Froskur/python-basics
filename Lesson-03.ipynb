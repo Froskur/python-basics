{
 "cells": [
  {
   "cell_type": "markdown",
   "metadata": {},
   "source": [
    "#### 1. Реализовать функцию, принимающую два числа (позиционные аргументы) и выполняющую их деление. Числа запрашивать у пользователя, предусмотреть обработку ситуации деления на ноль."
   ]
  },
  {
   "cell_type": "code",
   "execution_count": 12,
   "metadata": {},
   "outputs": [],
   "source": [
    "def myDiv(delimoe, delitel):    \n",
    "    try:\n",
    "        return delimoe / delitel\n",
    "    except ZeroDivisionError:\n",
    "        return False\n",
    "    "
   ]
  },
  {
   "cell_type": "code",
   "execution_count": 40,
   "metadata": {},
   "outputs": [
    {
     "name": "stdout",
     "output_type": "stream",
     "text": [
      "Введите делимое: 5\n",
      "Введите делитель: 2\n",
      "Результат деления 5 на 2 = 2.5\n"
     ]
    }
   ],
   "source": [
    "while True:\n",
    "    try:\n",
    "        delimoe = int(input(\"Введите делимое: \"))\n",
    "        delitel = int(input(\"Введите делитель: \"))\n",
    "    except:\n",
    "        print(\"Вы ввели не числа, повторите ввод\")\n",
    "    else:\n",
    "        break\n",
    "    \n",
    "result = myDiv(delimoe, delitel)\n",
    "if (result == False):\n",
    "    print(\"Делитель не должен быть 0\")\n",
    "else:\n",
    "    print(f\"Результат деления {delimoe} на {delitel} = {result}\")"
   ]
  },
  {
   "cell_type": "markdown",
   "metadata": {},
   "source": [
    "#### 2. Выполнить функцию, которая принимает несколько параметров, описывающих данные пользователя: имя, фамилия, год рождения, город проживания, email, телефон. Функция должна принимать параметры как именованные аргументы. Осуществить вывод данных о пользователе одной строкой."
   ]
  },
  {
   "cell_type": "code",
   "execution_count": 41,
   "metadata": {},
   "outputs": [],
   "source": [
    "def myUnion(**kwargs):\n",
    "    kwargs = {k.lower():v for k,v in kwargs.items()}\n",
    "    return f\"Пользователь {kwargs['firstname']} {kwargs['lastname']} (родился {kwargs['yearofbirth']} г.) из города {kwargs['city']} с контактными данными: {kwargs['phone']}, {kwargs['email']}\""
   ]
  },
  {
   "cell_type": "code",
   "execution_count": 42,
   "metadata": {},
   "outputs": [
    {
     "data": {
      "text/plain": [
       "'Пользователь Andrey Petrov (родился 1990 г.) из города st. Petersburg с контактными данными: +7 (921) 950-45-45, mymail@gmail.com'"
      ]
     },
     "execution_count": 42,
     "metadata": {},
     "output_type": "execute_result"
    }
   ],
   "source": [
    "myUnion(firstName=\"Andrey\", lastName=\"Petrov\", yearOfBirth=\"1990\", city=\"st. Petersburg\", phone=\"+7 (921) 950-45-45\", email=\"mymail@gmail.com\")\n",
    "    "
   ]
  },
  {
   "cell_type": "markdown",
   "metadata": {},
   "source": [
    "#### 3. Реализовать функцию my_func(), которая принимает три позиционных аргумента и возвращает сумму наибольших двух аргументов"
   ]
  },
  {
   "cell_type": "code",
   "execution_count": 65,
   "metadata": {},
   "outputs": [],
   "source": [
    "def my_func(*args):\n",
    "    args = list(args)\n",
    "    args.sort()\n",
    "    return sum(args[-2:])"
   ]
  },
  {
   "cell_type": "code",
   "execution_count": 67,
   "metadata": {},
   "outputs": [
    {
     "data": {
      "text/plain": [
       "25"
      ]
     },
     "execution_count": 67,
     "metadata": {},
     "output_type": "execute_result"
    }
   ],
   "source": [
    "my_func(16,2,9)"
   ]
  },
  {
   "cell_type": "markdown",
   "metadata": {},
   "source": [
    "#### 4. Программа принимает действительное положительное число x и целое отрицательное число y. Выполните возведение числа x в степень y. Задание реализуйте в виде функции my_func(x, y). При решении задания нужно обойтись без встроенной функции возведения числа в степень.\n",
    "Подсказка: попробуйте решить задачу двумя способами. Первый — возведение в степень с помощью оператора \\*\\*. Второй — более сложная реализация без оператора \\*\\*, предусматривающая использование цикла."
   ]
  },
  {
   "cell_type": "code",
   "execution_count": 80,
   "metadata": {},
   "outputs": [],
   "source": [
    "def my_func_one(x,y):\n",
    "    return 1/x ** abs(y)"
   ]
  },
  {
   "cell_type": "code",
   "execution_count": 81,
   "metadata": {},
   "outputs": [],
   "source": [
    "def my_func_two(x,y):\n",
    "    result = 1\n",
    "    for i in range(abs(y)):\n",
    "        result *= x\n",
    "    return 1/result"
   ]
  },
  {
   "cell_type": "code",
   "execution_count": 83,
   "metadata": {},
   "outputs": [
    {
     "name": "stdout",
     "output_type": "stream",
     "text": [
      "Введите действительное положительное число: 2\n",
      "Введите целое отрицательное число: -3\n",
      "Первый результат = 0.125\n",
      "Второй результат = 0.125\n"
     ]
    }
   ],
   "source": [
    "while True:\n",
    "    try:\n",
    "        x = int(input(\"Введите действительное положительное число: \"))\n",
    "        y = int(input(\"Введите целое отрицательное число: \"))\n",
    "    except:\n",
    "        print(\"Вы ввели не числа, повторите ввод\")\n",
    "    else:\n",
    "        if (y >= 0):\n",
    "            print(\"Второе число должно быть отрицательное\")\n",
    "        else:    \n",
    "            break\n",
    "\n",
    "print(\"Первый результат = \" + str(my_func_one(x, y)))\n",
    "print(\"Второй результат = \" + str(my_func_one(x, y)))"
   ]
  },
  {
   "cell_type": "markdown",
   "metadata": {},
   "source": [
    "#### 5. Программа запрашивает у пользователя строку чисел, разделённых пробелом. При нажатии Enter должна выводиться сумма чисел. Пользователь может продолжить ввод чисел, разделённых пробелом и снова нажать Enter. Сумма вновь введённых чисел будет добавляться к уже подсчитанной сумме\n",
    "Но если вместо числа вводится специальный символ, выполнение программы завершается. Если специальный символ введён после нескольких чисел, то вначале нужно добавить сумму этих чисел к полученной ранее сумме и после этого завершить программу."
   ]
  },
  {
   "cell_type": "code",
   "execution_count": 120,
   "metadata": {},
   "outputs": [
    {
     "name": "stdout",
     "output_type": "stream",
     "text": [
      "Введите несколько чисел, разделнные пробелом или n/no/нет/н для выхода: \n",
      "Сумма всех чисел равна 0\n",
      "Введите несколько чисел, разделнные пробелом или n/no/нет/н для выхода: 4 5 6\n",
      "Сумма всех чисел равна 15\n",
      "Введите несколько чисел, разделнные пробелом или n/no/нет/н для выхода: 10 20 no 50 \n",
      "Сумма всех чисел равна 45\n"
     ]
    }
   ],
   "source": [
    "allNumber = []\n",
    "while True:\n",
    "    strNumber = input(\"Введите несколько чисел, разделнные пробелом или n/no/нет/н для выхода: \").lower()\n",
    "    \n",
    "    tmpList = strNumber.split(\" \")\n",
    "    \n",
    "    # Найем через список самое первое вхождениее нашего стоп символа \n",
    "    try:\n",
    "        maxIndexForAdd = min([tmpList.index(x) for x in ['n','no','нет','н'] if tmpList.count(x)])\n",
    "    except:\n",
    "        maxIndexForAdd = len(tmpList)\n",
    "    \n",
    "    tmpList = tmpList[:maxIndexForAdd]\n",
    "    \n",
    "    allNumber.extend([int(x) for x in tmpList if len(x)>0])\n",
    "        \n",
    "    print(f'Сумма всех чисел равна {sum(allNumber)}')\n",
    "    \n",
    "    if tmpList != strNumber.split(\" \"):\n",
    "        break\n",
    "    "
   ]
  },
  {
   "cell_type": "markdown",
   "metadata": {},
   "source": [
    "####  6. Реализовать функцию int_func(), принимающую слова из маленьких латинских букв и возвращающую их же, но с прописной первой буквой. Например, print(int_func(‘text’)) -> Text."
   ]
  },
  {
   "cell_type": "code",
   "execution_count": 137,
   "metadata": {},
   "outputs": [],
   "source": [
    "def int_funct(txt):\n",
    "    return \" \".join([word.title() for word in txt.split(' ')])"
   ]
  },
  {
   "cell_type": "code",
   "execution_count": 141,
   "metadata": {},
   "outputs": [
    {
     "data": {
      "text/plain": [
       "'Text'"
      ]
     },
     "execution_count": 141,
     "metadata": {},
     "output_type": "execute_result"
    }
   ],
   "source": [
    "int_funct('text')"
   ]
  },
  {
   "cell_type": "markdown",
   "metadata": {},
   "source": [
    "#### 7. Продолжить работу над заданием. В программу должна попадать строка из слов, разделённых пробелом. Каждое слово состоит из латинских букв в нижнем регистре. Нужно сделать вывод исходной строки, но каждое слово должно начинаться с заглавной буквы. Используйте написанную ранее функцию int_func()."
   ]
  },
  {
   "cell_type": "code",
   "execution_count": 142,
   "metadata": {},
   "outputs": [
    {
     "data": {
      "text/plain": [
       "'Мама Мыла Раму, А Папа Чинил Автомобиль'"
      ]
     },
     "execution_count": 142,
     "metadata": {},
     "output_type": "execute_result"
    }
   ],
   "source": [
    "\n",
    "int_funct('мама мыла раму, а папа чинил автомобиль')"
   ]
  },
  {
   "cell_type": "markdown",
   "metadata": {},
   "source": [
    "Будем считать что сделал так как у меня уже работает как надо для всех случаев :)"
   ]
  }
 ],
 "metadata": {
  "kernelspec": {
   "display_name": "Python 3",
   "language": "python",
   "name": "python3"
  },
  "language_info": {
   "codemirror_mode": {
    "name": "ipython",
    "version": 3
   },
   "file_extension": ".py",
   "mimetype": "text/x-python",
   "name": "python",
   "nbconvert_exporter": "python",
   "pygments_lexer": "ipython3",
   "version": "3.7.7"
  }
 },
 "nbformat": 4,
 "nbformat_minor": 4
}

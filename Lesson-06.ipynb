{
 "cells": [
  {
   "cell_type": "markdown",
   "metadata": {},
   "source": [
    "### 1. Создать класс TrafficLight (светофор).\n",
    "определить у него один атрибут color (цвет) и метод running (запуск);\n",
    "атрибут реализовать как приватный;\n",
    "в рамках метода реализовать переключение светофора в режимы: красный, жёлтый, зелёный;\n",
    "продолжительность первого состояния (красный) составляет 7 секунд, второго (жёлтый) — 2 секунды, третьего (зелёный) — на ваше усмотрение;\n",
    "переключение между режимами должно осуществляться только в указанном порядке (красный, жёлтый, зелёный);\n",
    "проверить работу примера, создав экземпляр и вызвав описанный метод."
   ]
  },
  {
   "cell_type": "markdown",
   "metadata": {},
   "source": [
    "**!!! Мне не хватило информации о том как должен вести себя сфетофор после того как прошло время действия переданного сигнала, что выключиться? вернутся в зеленый? И кто контролит время. Понятно что должен класс сам, но не понимаю это и нужно седлать? Или нужно просто print состояния того что он будет столько гореть? Вообщем решил сделать с контролем времени, так как видимо это и хотелось, предпологая что это время, минимальное, которое должен гореть светофор**"
   ]
  },
  {
   "cell_type": "code",
   "execution_count": 242,
   "metadata": {},
   "outputs": [],
   "source": [
    "import time\n",
    "\n",
    "class TrafficLight:\n",
    "    #Счётчик экземпляров класса\n",
    "    glCounter = 0\n",
    "\n",
    "    #Тут будем хранить конкретно номер созданного объекта \n",
    "    curentID  = 0\n",
    "    \n",
    "    #Так по умолчнию будет называться любой экземпляр класса  \n",
    "    titleGlobal = \"Светофор\"\n",
    "        \n",
    "    #У каждого экземпляра может быть определена своя позиция (место) размещения  \n",
    "    _position = \"\"\n",
    "\n",
    "    #По умолчанию светофор не светит\n",
    "    _color       = None\n",
    "    \n",
    "    \n",
    "    #Приватная переменная для храрения времени, сколько свети включенный сигнал\n",
    "    __time_start = None\n",
    "\n",
    "    \n",
    "    # Приватная переменная модели действий и достпуных цветов\n",
    "    __modes_work = [\n",
    "        {\n",
    "            'light':'Крассный',\n",
    "            'duration': 7,\n",
    "            'parent':[None]\n",
    "        },\n",
    "        {\n",
    "            'light':'Желтый',\n",
    "            'duration': 2, \n",
    "            'parent':['Крассный','Желтый']\n",
    "        },\n",
    "        {\n",
    "            'light':'Зеленый',\n",
    "            'duration': 13, \n",
    "            'parent':[None,'Желтый']\n",
    "        }\n",
    "    ]\n",
    "    \n",
    "    # \n",
    "    def __init__(self, position=None, mode=None):\n",
    "        self._position    = position\n",
    "        \n",
    "        #Именно вот это определяет то, что у всех экземпляров это класса это значаение всегда будет увеличиваться   \n",
    "        TrafficLight.glCounter += 1\n",
    "\n",
    "        self.curentID = TrafficLight.glCounter \n",
    "        \n",
    "        if mode:\n",
    "            self.running(mode)\n",
    "        \n",
    "    \n",
    "    def show_light(self):\n",
    "        tmpstr = f\"{self.titleGlobal}#{self.curentID}{(' ('+self._position+')') if self._position else ''}\"\n",
    "        \n",
    "        if (self._color == None):\n",
    "            tmpstr += \" выключен!\"\n",
    "        else:\n",
    "            tmpstr += f\" горит {self._color['light']}, осталось {self._color['duration']- (time.time() - self.__time_start)} секунд\"\n",
    "        \n",
    "        tmpstr += f\"  (Всего {self.glCounter} инициализаций)!\"   \n",
    "        print(tmpstr)\n",
    "    \n",
    "    def running(self, mode=None):\n",
    "        #Не задаем режим, просто показываем а какой сейчас \n",
    "        if (mode == None):\n",
    "            self.show_light()\n",
    "        else:\n",
    "            #Определим, в какой режимы хотим переключиться\n",
    "            new_mode = None \n",
    "            if (isinstance(mode, str)): \n",
    "                new_mode = [svet for svet in self.__modes_work if (svet['light'].lower() == mode.lower())]\n",
    "                new_mode = new_mode[0] if new_mode else None \n",
    "                    \n",
    "            elif (isinstance(mode, int)):\n",
    "                try:                    \n",
    "                    new_mode = self.__modes_work[mode-1]\n",
    "                except:\n",
    "                    pass\n",
    "            \n",
    "            #Ушли, если нечего переключать\n",
    "            if not new_mode:\n",
    "                return\n",
    "            \n",
    "            #Провреки  \n",
    "            \n",
    "            #1. На возможность включения того или иного сигнала            \n",
    "            #Узнали текущий цвет\n",
    "            curent_light = self._color['light'] if self._color else None\n",
    "            \n",
    "            #Если он не разрешен для нового сигнала - уходим \n",
    "            if not(curent_light in new_mode['parent']):\n",
    "                print(f\"Не могу переключить {self.titleGlobal}#{self.curentID} в {new_mode['light']}, это запрещено!\")\n",
    "                return\n",
    "            \n",
    "            #2. Проверим время, можно ли менять сигнал \n",
    "            if (self._color) and ((time.time() - self.__time_start) < self._color['duration']):\n",
    "                print(f\"Не могу переключить {self.titleGlobal}#{self.curentID} в {new_mode['light']}, ещё горит {self._color['light']}\")\n",
    "                return\n",
    "            \n",
    "            \n",
    "            # Всё хорошо, можем ставить новый свет сигнала\n",
    "            self._color       = new_mode\n",
    "            self.__time_start = time.time()\n",
    "                \n",
    "            self.show_light()\n",
    "    "
   ]
  },
  {
   "cell_type": "markdown",
   "metadata": {},
   "source": [
    "**Теперь тесты, и прежде всего с атрибутами. \n",
    "На уроке очень плохо прозвучало про копирование атрибутов, посмотри тут на примере**  "
   ]
  },
  {
   "cell_type": "code",
   "execution_count": 243,
   "metadata": {},
   "outputs": [
    {
     "name": "stdout",
     "output_type": "stream",
     "text": [
      "Светофор#1 (Ул.Мира) выключен!  (Всего 3 инициализаций)!\n",
      "Светофор#2 (Ул.Правды) выключен!  (Всего 3 инициализаций)!\n",
      "Светофор#3 выключен!  (Всего 3 инициализаций)!\n"
     ]
    }
   ],
   "source": [
    "simofor1 = TrafficLight('Ул.Мира')\n",
    "simofor2 = TrafficLight(\"Ул.Правды\")\n",
    "simofor3 = TrafficLight()\n",
    "\n",
    "simofor1.show_light()\n",
    "simofor2.show_light()\n",
    "simofor3.show_light()"
   ]
  },
  {
   "cell_type": "markdown",
   "metadata": {},
   "source": [
    "**Теперь, у одного из созданных объекто поменяем тип светофора и посмотрим как изменились объекты**"
   ]
  },
  {
   "cell_type": "code",
   "execution_count": 244,
   "metadata": {},
   "outputs": [
    {
     "name": "stdout",
     "output_type": "stream",
     "text": [
      "Светофор#1 (Ул.Мира) выключен!  (Всего 3 инициализаций)!\n",
      "Диодный сфетофор#2 (Ул.Правды) выключен!  (Всего 3 инициализаций)!\n",
      "Светофор#3 выключен!  (Всего 3 инициализаций)!\n",
      "\n",
      "\n",
      "Светофор#1 (Ул.Мира) выключен!  (Всего 3 инициализаций)!\n",
      "Диодный сфетофор#2 (Ул.Правды) выключен!  (Всего 3 инициализаций)!\n",
      "Диодный светофор (голосовой)#3 выключен!  (Всего 3 инициализаций)!\n"
     ]
    }
   ],
   "source": [
    "simofor2.titleGlobal = \"Диодный сфетофор\"\n",
    "\n",
    "simofor1.show_light()\n",
    "simofor2.show_light()\n",
    "simofor3.show_light()\n",
    "\n",
    "simofor3.titleGlobal = \"Диодный светофор (голосовой)\"\n",
    "print('\\n')\n",
    "simofor1.show_light()\n",
    "simofor2.show_light()\n",
    "simofor3.show_light()"
   ]
  },
  {
   "cell_type": "markdown",
   "metadata": {},
   "source": [
    "**А теперь создадим новый экземпляр класса, чтобы увидеть что все значения у нафого светофора будут дефолтные, как прописаны в классе**\n"
   ]
  },
  {
   "cell_type": "code",
   "execution_count": 245,
   "metadata": {},
   "outputs": [
    {
     "name": "stdout",
     "output_type": "stream",
     "text": [
      "Светофор#4 (Пр.Ленина) выключен!  (Всего 4 инициализаций)!\n"
     ]
    }
   ],
   "source": [
    "simofor4 = TrafficLight(\"Пр.Ленина\")\n",
    "simofor4.show_light()"
   ]
  },
  {
   "cell_type": "markdown",
   "metadata": {},
   "source": [
    "**Теперь можем включать и вылючать светофоры смотря**"
   ]
  },
  {
   "cell_type": "code",
   "execution_count": 246,
   "metadata": {},
   "outputs": [
    {
     "name": "stdout",
     "output_type": "stream",
     "text": [
      "Не могу переключить Светофор#1 в Желтый, это запрещено!\n"
     ]
    }
   ],
   "source": [
    "simofor1.running(\"Желтый\")"
   ]
  },
  {
   "cell_type": "markdown",
   "metadata": {},
   "source": [
    "**Теперь делаем сразу с задержкой и попыткой переключится в неправильный цвет**"
   ]
  },
  {
   "cell_type": "code",
   "execution_count": 247,
   "metadata": {},
   "outputs": [
    {
     "name": "stdout",
     "output_type": "stream",
     "text": [
      "Светофор#1 (Ул.Мира) горит Крассный, осталось 7.0 секунд  (Всего 4 инициализаций)!\n",
      "Не могу переключить Светофор#1 в Зеленый, это запрещено!\n",
      "Не могу переключить Светофор#1 в Желтый, ещё горит Крассный\n",
      "Не могу переключить Светофор#1 в Зеленый, это запрещено!\n",
      "Светофор#1 (Ул.Мира) горит Желтый, осталось 2.0 секунд  (Всего 4 инициализаций)!\n"
     ]
    }
   ],
   "source": [
    "simofor1.running(1)\n",
    "time.sleep(5)\n",
    "simofor1.running(\"Зеленый\")\n",
    "simofor1.running(\"Желтый\")\n",
    "time.sleep(5)\n",
    "simofor1.running(\"Зеленый\")\n",
    "simofor1.running(\"Желтый\")"
   ]
  },
  {
   "cell_type": "markdown",
   "metadata": {},
   "source": [
    "### 2. Реализовать класс Road (дорога).\n",
    "определить атрибуты: length (длина), width (ширина);\n",
    "значения атрибутов должны передаваться при создании экземпляра класса;\n",
    "атрибуты сделать защищёнными;\n",
    "определить метод расчёта массы асфальта, необходимого для покрытия всей дороги;\n",
    "использовать формулу: длина * ширина * масса асфальта для покрытия одного кв. метра дороги асфальтом, толщиной в 1 см * число см толщины полотна;\n",
    "проверить работу метода.\n",
    "Например: 20 м*5000 м*25 кг*5 см = 12500 т."
   ]
  },
  {
   "cell_type": "code",
   "execution_count": 6,
   "metadata": {},
   "outputs": [],
   "source": [
    "class Road:\n",
    "    \n",
    "    __widthBySqrMetr = 25\n",
    "    \n",
    "    def __init__(self, length, widht):\n",
    "        self.__length, self.__widht = length, widht\n",
    "    \n",
    "    def getMass(self, widthСanvas=5):\n",
    "        return self.__length * self.__widht * self.__widthBySqrMetr * widthСanvas\n",
    "    "
   ]
  },
  {
   "cell_type": "code",
   "execution_count": 9,
   "metadata": {},
   "outputs": [
    {
     "name": "stdout",
     "output_type": "stream",
     "text": [
      "Нужно 12500000 т. асфальта для укладки толщинной 5 см\n",
      "Нужно 7500000 т. асфальта для укладки толщинной 3 см\n"
     ]
    }
   ],
   "source": [
    "doroga = Road(5000,20)\n",
    "print(f\"Нужно {doroga.getMass()} т. асфальта для укладки толщинной 5 см\")\n",
    "print(f\"Нужно {doroga.getMass(3)} т. асфальта для укладки толщинной 3 см\")\n"
   ]
  },
  {
   "cell_type": "markdown",
   "metadata": {},
   "source": [
    "### 3. Реализовать базовый класс Worker (работник).\n",
    "определить атрибуты: name, surname, position (должность), income (доход);\n",
    "последний атрибут должен быть защищённым и ссылаться на словарь, содержащий элементы: оклад и премия, например, {\"wage\": wage, \"bonus\": bonus};\n",
    "создать класс Position (должность) на базе класса Worker;\n",
    "в классе Position реализовать методы получения полного имени сотрудника (get_full_name) и дохода с учётом премии (get_total_income);\n",
    "проверить работу примера на реальных данных: создать экземпляры класса Position, передать данные, проверить значения атрибутов, вызвать методы экземпляров."
   ]
  },
  {
   "cell_type": "markdown",
   "metadata": {},
   "source": [
    "**я надеюсь никто не ожидал что я буду использовать \"плохие\" методы доступа к приватным атрибутам класса :)**"
   ]
  },
  {
   "cell_type": "code",
   "execution_count": 63,
   "metadata": {},
   "outputs": [],
   "source": [
    "class Worker:\n",
    "    name     = None\n",
    "    surname  = None\n",
    "    position = None\n",
    "    __income = {\"wage\": 0, \"bonus\": 0}\n",
    "    \n",
    "    def __init__(self, name, surname, position, wage = 0, bonus=0):\n",
    "        self.name     = name\n",
    "        self.surname  = surname\n",
    "        self.position = position\n",
    "         \n",
    "        self.setWage(wage)\n",
    "        self.setBonus(bonus)\n",
    "        \n",
    "   \n",
    "    def setWage(self, val):\n",
    "        self.__income['wage']  = int(val)\n",
    "    \n",
    "    def setBonus(self, val):\n",
    "        self.__income['bonus']  = int(val)\n",
    "    \n",
    "    def getWage(self):\n",
    "        return self.__income['wage']\n",
    "    \n",
    "    def getBonus(self):\n",
    "        return self.__income['bonus']"
   ]
  },
  {
   "cell_type": "code",
   "execution_count": 64,
   "metadata": {},
   "outputs": [],
   "source": [
    "class Position(Worker):\n",
    "    def get_full_name(self):\n",
    "        return self.surname+\" \"+self.name+\" (\"+self.position+\")\"\n",
    "    \n",
    "    def get_total_income(self):\n",
    "        return self.getWage() + self.getBonus()"
   ]
  },
  {
   "cell_type": "code",
   "execution_count": 65,
   "metadata": {},
   "outputs": [
    {
     "name": "stdout",
     "output_type": "stream",
     "text": [
      "Работник Калугин Дмитрий (Сантехник) с полной зарплатой 70000\n"
     ]
    }
   ],
   "source": [
    "rabotnik1 = Position('Дмитрий', 'Калугин','Сантехник',60000,10000)\n",
    "\n",
    "print(f\"Работник {rabotnik1.get_full_name()} с полной зарплатой {rabotnik1.get_total_income()}\")"
   ]
  },
  {
   "cell_type": "code",
   "execution_count": 66,
   "metadata": {},
   "outputs": [
    {
     "name": "stdout",
     "output_type": "stream",
     "text": [
      "Работник Уточкина Ирина (HR) с полной зарплатой 90000\n"
     ]
    }
   ],
   "source": [
    "rabotnik2 = Position('Ирина', 'Уточкина','HR')\n",
    "rabotnik2.setWage(90000)\n",
    "\n",
    "print(f\"Работник {rabotnik2.get_full_name()} с полной зарплатой {rabotnik2.get_total_income()}\")"
   ]
  },
  {
   "cell_type": "markdown",
   "metadata": {},
   "source": [
    "### 4. Реализуйте базовый класс Car.\n",
    "у класса должны быть следующие атрибуты: speed, color, name, is_police (булево). А также методы: go, stop, turn(direction), которые должны сообщать, что машина поехала, остановилась, повернула (куда);\n",
    "опишите несколько дочерних классов: TownCar, SportCar, WorkCar, PoliceCar;\n",
    "добавьте в базовый класс метод show_speed, который должен показывать текущую скорость автомобиля;\n",
    "для классов TownCar и WorkCar переопределите метод show_speed. При значении скорости свыше 60 (TownCar) и 40 (WorkCar) должно выводиться сообщение о превышении скорости."
   ]
  },
  {
   "cell_type": "code",
   "execution_count": 96,
   "metadata": {},
   "outputs": [],
   "source": [
    "class Car:\n",
    "    speed = 0    \n",
    "    color = None\n",
    "    name  = None\n",
    "    is_police = False\n",
    "    \n",
    "    def __init__(self, name, color, police=False):\n",
    "        self.name  = name\n",
    "        self.color = color\n",
    "        self.is_police = police\n",
    "    \n",
    "    def go(self, speed):\n",
    "        self.speed = speed    \n",
    "    \n",
    "    def stop(self):\n",
    "        self.speed = 0\n",
    "    \n",
    "    def turn(self, direction):\n",
    "        print(f\"{self.name} повернула на{direction}\")\n",
    "    \n",
    "    def show_speed(self):\n",
    "        tmpstr  = f\"{self.name} ({self.color}) движется со скоростью {self.speed} км/ч\"\n",
    "        tmpstr += \" !!!пропустите полицию!!!\".upper() if self.is_police else ''\n",
    "        print(tmpstr)\n"
   ]
  },
  {
   "cell_type": "code",
   "execution_count": 106,
   "metadata": {},
   "outputs": [],
   "source": [
    "class TownCar(Car):\n",
    "    speedMax = 60\n",
    "    def show_speed(self):\n",
    "        tmpstr  = f\"{self.name} ({self.color}) движется со скоростью {self.speed} км/ч\"\n",
    "        tmpstr += f' (!!! Внимание привыешение скорости на {self.speed -self.speedMax} км/ч)' if (self.speed > self.speedMax) else ''\n",
    "        print(tmpstr)\n",
    "\n",
    "class SportCar(Car):\n",
    "    pass\n",
    "\n",
    "class WorkCar(Car):\n",
    "    speedMax = 40\n",
    "    def show_speed(self):\n",
    "        tmpstr  = f\"{self.name} ({self.color}) движется со скоростью {self.speed} км/ч\"\n",
    "        tmpstr += f' (!!! Внимание привыешение скорости на {self.speed -self.speedMax} км/ч)' if (self.speed > self.speedMax) else '' \n",
    "        print(tmpstr)\n",
    "\n",
    "class PoliceCar(Car):\n",
    "    def __init__(self, name, color):\n",
    "        super().__init__(name, color, True)\n",
    "        \n",
    "    "
   ]
  },
  {
   "cell_type": "code",
   "execution_count": 107,
   "metadata": {},
   "outputs": [
    {
     "name": "stdout",
     "output_type": "stream",
     "text": [
      "Ауди (Шампань) движется со скоростью 100 км/ч (!!! Внимание привыешение скорости на 40 км/ч)\n",
      "Ауди повернула налево\n"
     ]
    }
   ],
   "source": [
    "car_1 = TownCar('Ауди','Шампань')\n",
    "car_1.go(100)\n",
    "car_1.show_speed()\n",
    "car_1.turn('лево')"
   ]
  },
  {
   "cell_type": "code",
   "execution_count": 108,
   "metadata": {},
   "outputs": [
    {
     "name": "stdout",
     "output_type": "stream",
     "text": [
      "Reno (С мигалкой) движется со скоростью 90 км/ч !!!ПРОПУСТИТЕ ПОЛИЦИЮ!!!\n"
     ]
    }
   ],
   "source": [
    "car_2 = PoliceCar('Reno',\"С мигалкой\")\n",
    "car_2.go(90)\n",
    "car_2.show_speed()"
   ]
  },
  {
   "cell_type": "code",
   "execution_count": 109,
   "metadata": {},
   "outputs": [
    {
     "name": "stdout",
     "output_type": "stream",
     "text": [
      "Мустанг (Крассный) движется со скоростью 150 км/ч\n"
     ]
    }
   ],
   "source": [
    "car_3 = SportCar('Мустанг','Крассный')\n",
    "car_3.go(150)\n",
    "car_3.show_speed()"
   ]
  },
  {
   "cell_type": "markdown",
   "metadata": {},
   "source": [
    "### 5. Реализовать класс Stationery (канцелярская принадлежность).\n",
    "определить в нём атрибут title (название) и метод draw (отрисовка). Метод выводит сообщение «Запуск отрисовки»;\n",
    "создать три дочерних класса Pen (ручка), Pencil (карандаш), Handle (маркер);\n",
    "в каждом классе реализовать переопределение метода draw. Для каждого класса метод должен выводить уникальное сообщение;\n",
    "создать экземпляры классов и проверить, что выведет описанный метод для каждого экземпляра."
   ]
  },
  {
   "cell_type": "code",
   "execution_count": 116,
   "metadata": {},
   "outputs": [],
   "source": [
    "class Stationery:\n",
    "    title = \"\"\n",
    "    \n",
    "    def __init__(self, title):\n",
    "        self.title = title\n",
    "        \n",
    "    def draw():\n",
    "        print(\"Запуск отрисовки\")\n",
    "    "
   ]
  },
  {
   "cell_type": "code",
   "execution_count": 121,
   "metadata": {},
   "outputs": [],
   "source": [
    "class Pen(Stationery):\n",
    "    def draw(self):\n",
    "        print(\"Рисуем инструментом: \" + self.title)\n",
    "\n",
    "class Pencil(Stationery):\n",
    "    def draw(self):\n",
    "        print(\"Рисуем инструментом: \" + self.title)\n",
    "\n",
    "class Handle(Stationery):\n",
    "    def draw(self):\n",
    "        print(\"Рисуем инструментом: \" + self.title)\n"
   ]
  },
  {
   "cell_type": "code",
   "execution_count": 122,
   "metadata": {},
   "outputs": [
    {
     "name": "stdout",
     "output_type": "stream",
     "text": [
      "Рисуем инструментом: Красная ручка\n"
     ]
    }
   ],
   "source": [
    "instrument1 = Pen(\"Красная ручка\")\n",
    "instrument1.draw()"
   ]
  },
  {
   "cell_type": "code",
   "execution_count": 123,
   "metadata": {},
   "outputs": [
    {
     "name": "stdout",
     "output_type": "stream",
     "text": [
      "Рисуем инструментом: Мягкий карандаш\n"
     ]
    }
   ],
   "source": [
    "instrument2 = Pencil(\"Мягкий карандаш\")\n",
    "instrument2.draw()"
   ]
  },
  {
   "cell_type": "code",
   "execution_count": 124,
   "metadata": {},
   "outputs": [
    {
     "name": "stdout",
     "output_type": "stream",
     "text": [
      "Рисуем инструментом: Фиолетовый маркер\n"
     ]
    }
   ],
   "source": [
    "instrument3 = Pencil(\"Фиолетовый маркер\")\n",
    "instrument3.draw()"
   ]
  }
 ],
 "metadata": {
  "kernelspec": {
   "display_name": "Python 3",
   "language": "python",
   "name": "python3"
  },
  "language_info": {
   "codemirror_mode": {
    "name": "ipython",
    "version": 3
   },
   "file_extension": ".py",
   "mimetype": "text/x-python",
   "name": "python",
   "nbconvert_exporter": "python",
   "pygments_lexer": "ipython3",
   "version": "3.7.7"
  }
 },
 "nbformat": 4,
 "nbformat_minor": 4
}

{
 "cells": [
  {
   "cell_type": "markdown",
   "metadata": {},
   "source": [
    "# 1. Поработайте с переменными, создайте несколько, выведите на экран. Запросите у пользователя некоторые числа и строки и сохраните в переменные, затем выведите на экран.\n",
    "\n"
   ]
  },
  {
   "cell_type": "code",
   "execution_count": 10,
   "metadata": {},
   "outputs": [
    {
     "name": "stdout",
     "output_type": "stream",
     "text": [
      "30\n"
     ]
    }
   ],
   "source": [
    "userAge = 30\n",
    "print(userAge)"
   ]
  },
  {
   "cell_type": "code",
   "execution_count": 16,
   "metadata": {},
   "outputs": [
    {
     "name": "stdout",
     "output_type": "stream",
     "text": [
      "Your adress: NY,aveny Lennia 4\n"
     ]
    }
   ],
   "source": [
    "addressCity = \"NY,aveny Lennia 4\"\n",
    "print(f\"Your adress: {addressCity}\")"
   ]
  },
  {
   "cell_type": "code",
   "execution_count": 32,
   "metadata": {},
   "outputs": [
    {
     "name": "stdout",
     "output_type": "stream",
     "text": [
      "Ener your location?Spb\n",
      "You enter location: Spb\n"
     ]
    }
   ],
   "source": [
    "nameCity = None\n",
    "\n",
    "while not(nameCity): \n",
    "    nameCity = input(f'Ener your location?')\n",
    "    \n",
    "print(f'You enter location: {nameCity}')"
   ]
  },
  {
   "cell_type": "markdown",
   "metadata": {},
   "source": [
    "# 2. Пользователь вводит время в секундах. Переведите время в часы, минуты, секунды и выведите в формате чч:мм:сс. Используйте форматирование строк."
   ]
  },
  {
   "cell_type": "code",
   "execution_count": 66,
   "metadata": {},
   "outputs": [
    {
     "name": "stdout",
     "output_type": "stream",
     "text": [
      "Enter the number of seconds (value must be greater than 1000)4697\n",
      "Long time HH:MM:SS = 01:18:17\n"
     ]
    }
   ],
   "source": [
    "secondCount = 0\n",
    "secondMin   = 1000\n",
    "\n",
    "while (secondCount < secondMin): \n",
    "    secondCount = int(input(f'Enter the number of seconds (value must be greater than {secondMin})'))\n",
    "\n",
    "myHour  = secondCount // (3600)\n",
    "myMinut = (secondCount-myHour*3600) // 60\n",
    "mySec   = secondCount - myHour*3600 - myMinut*60\n",
    "\n",
    "print('Long time HH:MM:SS = {:02d}:{:02d}:{:02d}'.format(myHour, myMinut, mySec))"
   ]
  },
  {
   "cell_type": "markdown",
   "metadata": {},
   "source": [
    "# 3. Узнайте у пользователя число n. Найдите сумму чисел n + nn + nnn. Например, пользователь ввёл число 3. Считаем 3 + 33 + 333 = 369."
   ]
  },
  {
   "cell_type": "code",
   "execution_count": 75,
   "metadata": {},
   "outputs": [
    {
     "name": "stdout",
     "output_type": "stream",
     "text": [
      "Your number:3\n",
      "3 + 33 + 333 = 369\n"
     ]
    }
   ],
   "source": [
    "n = input('Your number:')\n",
    "total = int(n)+int(n*2)+int(n*3)\n",
    "print(f'{n} + {n*2} + {n*3} = {total}') "
   ]
  },
  {
   "cell_type": "markdown",
   "metadata": {},
   "source": [
    "# 4. Пользователь вводит целое положительное число. Найдите самую большую цифру в числе. Для решения используйте цикл while и арифметические операции.\n"
   ]
  },
  {
   "cell_type": "code",
   "execution_count": 100,
   "metadata": {},
   "outputs": [
    {
     "name": "stdout",
     "output_type": "stream",
     "text": [
      "Please enter a positive integer (minimum 6 characters)2324575\n",
      "In the number 2324575, the largest number is 7\n"
     ]
    }
   ],
   "source": [
    "myNumber = ''\n",
    "countMin = 6\n",
    "\n",
    "# используем ленивый or, чтобы не было ошибки \n",
    "while ((len(myNumber) < countMin) or (int(myNumber) <= 0)): \n",
    "    myNumber = input(f'Please enter a positive integer (minimum {countMin} characters)')\n",
    "    \n",
    "# теперь найдем большое самое большое число, хотя While конечно не удобен тут\n",
    "maxNumber = i = 0;\n",
    "while i < len(myNumber) :\n",
    "    if maxNumber < int(myNumber[i]):\n",
    "        maxNumber = int(myNumber[i])\n",
    "\n",
    "    i += 1\n",
    "\n",
    "print(f'In the number {myNumber}, the largest number is {maxNumber}')\n"
   ]
  },
  {
   "cell_type": "markdown",
   "metadata": {},
   "source": [
    "# 5. Запросите у пользователя значения выручки и издержек фирмы. Определите, с каким финансовым результатом работает фирма. Например, прибыль — выручка больше издержек, или убыток — издержки больше выручки. Выведите соответствующее сообщение."
   ]
  },
  {
   "cell_type": "code",
   "execution_count": 114,
   "metadata": {},
   "outputs": [
    {
     "name": "stdout",
     "output_type": "stream",
     "text": [
      "Company revenue?:5000\n",
      "Company costs?:4710\n",
      "Congratulations, your profit: 290\n"
     ]
    }
   ],
   "source": [
    "myRevenu = input(\"Company revenue?:\")\n",
    "myCosts  = input(\"Company costs?:\")\n",
    "\n",
    "myResult = int(myRevenu) - int(myCosts) \n",
    "if myResult > 0:\n",
    "    print(f'Congratulations, your profit: {myResult}')\n",
    "elif myResult < 0:\n",
    "    print(f'Your loss: {myResult*-1}')\n",
    "else:\n",
    "    print(f'You have worked to zero')"
   ]
  },
  {
   "cell_type": "markdown",
   "metadata": {},
   "source": [
    "# 6. Если фирма отработала с прибылью, вычислите рентабельность выручки. Это отношение прибыли к выручке. Далее запросите численность сотрудников фирмы и определите прибыль фирмы в расчёте на одного сотрудника."
   ]
  },
  {
   "cell_type": "code",
   "execution_count": 128,
   "metadata": {},
   "outputs": [
    {
     "name": "stdout",
     "output_type": "stream",
     "text": [
      "The number of employees?10\n",
      "Your ROI: 5.80%\n",
      "Profit per employee: 29.0\n"
     ]
    }
   ],
   "source": [
    "numberEmployees = int(input('The number of employees?'))\n",
    "\n",
    "\n",
    "if myResult > 0:\n",
    "    print('Your ROI: {:.2%}'.format(int(myResult)/int(myRevenu)))\n",
    "\n",
    "if numberEmployees > 0:\n",
    "    print('Profit per employee: {}'.format(int(myResult)/numberEmployees))\n",
    "    "
   ]
  },
  {
   "cell_type": "markdown",
   "metadata": {},
   "source": [
    "# 7. Спортсмен занимается ежедневными пробежками. В первый день его результат составил a километров. Каждый день спортсмен увеличивал результат на 10% относительно предыдущего. Требуется определить номер дня, на который результат спортсмена составит не менее b километров. Программа должна принимать значения параметров a и b и выводить одно натуральное число — номер дня.\n",
    "Например: a = 2, b = 3.\n",
    "Результат:\n",
    "1-й день: 2\n",
    "2-й день: 2,2\n",
    "3-й день: 2,42\n",
    "4-й день: 2,66\n",
    "5-й день: 2,93\n",
    "6-й день: 3,22\n",
    "Ответ: на шестой день спортсмен достиг результата — не менее 3 км."
   ]
  },
  {
   "cell_type": "code",
   "execution_count": 132,
   "metadata": {},
   "outputs": [
    {
     "name": "stdout",
     "output_type": "stream",
     "text": [
      "На 12 день спортсмен достигнет результата 8.55935011833 км. Это больше чем порог 8 км.\n"
     ]
    }
   ],
   "source": [
    "a = 3\n",
    "b = 8\n",
    "counter = 1\n",
    "\n",
    "while (a <= b):\n",
    "    a += a * .1\n",
    "    counter += 1\n",
    "    \n",
    "print (f'На {counter} день спортсмен достигнет результата {a} км. Это больше чем порог {b} км.')    "
   ]
  }
 ],
 "metadata": {
  "kernelspec": {
   "display_name": "Python 3",
   "language": "python",
   "name": "python3"
  },
  "language_info": {
   "codemirror_mode": {
    "name": "ipython",
    "version": 3
   },
   "file_extension": ".py",
   "mimetype": "text/x-python",
   "name": "python",
   "nbconvert_exporter": "python",
   "pygments_lexer": "ipython3",
   "version": "3.7.7"
  }
 },
 "nbformat": 4,
 "nbformat_minor": 4
}

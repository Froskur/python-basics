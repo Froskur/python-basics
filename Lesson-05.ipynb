{
 "cells": [
  {
   "cell_type": "markdown",
   "metadata": {},
   "source": [
    "### 1. Создать программный файл в текстовом формате, записать в него построчно данные, вводимые пользователем. Об окончании ввода данных будет свидетельствовать пустая строка."
   ]
  },
  {
   "cell_type": "code",
   "execution_count": 1,
   "metadata": {},
   "outputs": [
    {
     "name": "stdout",
     "output_type": "stream",
     "text": [
      "Введите текст для записи в файл: hjghjg\n",
      "Введите текст для записи в файл: kjkjhk\n",
      "Введите текст для записи в файл: \n",
      "Введенные строчки записаны в файл lesson-05-out.txt\n"
     ]
    }
   ],
   "source": [
    "fileName = \"lesson-05-out.txt\"\n",
    "out_f = open(fileName, \"w\", encoding = 'utf-8')\n",
    "\n",
    "while True:\n",
    "    my_str = input(\"Введите текст для записи в файл: \")\n",
    "\n",
    "    if (my_str != \"\"):\n",
    "        out_f.write(my_str+\"\\n\")        \n",
    "    else:\n",
    "        break\n",
    "\n",
    "        \n",
    "out_f.close()\n",
    "print(f\"Введенные строчки записаны в файл {fileName}\")"
   ]
  },
  {
   "cell_type": "markdown",
   "metadata": {},
   "source": [
    "### 2. Создать текстовый файл (не программно), сохранить в нём несколько строк, выполнить подсчёт строк и слов в каждой строке."
   ]
  },
  {
   "cell_type": "code",
   "execution_count": 36,
   "metadata": {},
   "outputs": [
    {
     "name": "stdout",
     "output_type": "stream",
     "text": [
      "В файле lesson-05-2in.txt всего 23 строк\n",
      "[22, 19, 37, 2, 0, 2, 2, 0, 9, 3, 3, 3, 3, 27, 25, 38, 15, 7, 4, 4, 8, 0, 23]\n"
     ]
    }
   ],
   "source": [
    "fileName = \"lesson-05-2in.txt\"\n",
    "\n",
    "with open(fileName, \"r\", encoding = 'utf-8') as f:\n",
    "\n",
    "    allLines = list(f)\n",
    "    \n",
    "    print(f\"В файле {fileName} всего {len(allLines)} строк\")\n",
    "    \n",
    "    #Сознательно не использовал функцию Map, такой метод в питоне мне нравится гораздо больше\n",
    "    counterWord = [len(item.split(\" \")) if (str(item) != '\\n') else 0 for item in allLines]\n",
    "    \n",
    "    print(counterWord)"
   ]
  },
  {
   "cell_type": "markdown",
   "metadata": {},
   "source": [
    "### 3. Создать текстовый файл (не программно). Построчно записать фамилии сотрудников и величину их окладов (не менее 10 строк). Определить, кто из сотрудников имеет оклад менее 20 тысяч, вывести фамилии этих сотрудников. Выполнить подсчёт средней величины дохода сотрудников.\n",
    "Пример файла:\n",
    "\n",
    "Иванов 23543.12\n",
    "\n",
    "Петров 13749.32"
   ]
  },
  {
   "cell_type": "code",
   "execution_count": 1,
   "metadata": {},
   "outputs": [
    {
     "name": "stdout",
     "output_type": "stream",
     "text": [
      "Те, у кого ЗП меньше 20К : {'Приходько': 11801.78, 'Нурин': 15705.77}\n",
      "Размер средней ЗП: 43995.73\n"
     ]
    }
   ],
   "source": [
    "fileName = \"lesson-05-salary.txt\"\n",
    "\n",
    "with open(fileName, \"r\", encoding = 'utf-8') as f:\n",
    "    \n",
    "    # Хотели построчно прочитать данные - велком \n",
    "    allSalary = {}\n",
    "\n",
    "    for line in f:\n",
    "        fio, salary = line.split(\" \")\n",
    "        allSalary[fio] = float(salary)\n",
    "    \n",
    "    smallSalary = {x:allSalary[x] for x in allSalary if allSalary[x]<20000}\n",
    "    \n",
    "    print(f\"Те, у кого ЗП меньше 20К : {smallSalary}\")\n",
    "\n",
    "    medianaSalary = round(sum(allSalary.values())/len(allSalary),2)\n",
    "    print(f\"Размер средней ЗП: {medianaSalary}\")\n"
   ]
  },
  {
   "cell_type": "markdown",
   "metadata": {},
   "source": [
    "### 4. Создать (не программно) текстовый файл со следующим содержимым:\n",
    "One — 1\n",
    "Two — 2\n",
    "Three — 3\n",
    "Four — 4\n",
    "Напишите программу, открывающую файл на чтение и считывающую построчно данные. При этом английские числительные должны заменяться на русские. Новый блок строк должен записываться в новый текстовый файл."
   ]
  },
  {
   "cell_type": "code",
   "execution_count": 19,
   "metadata": {},
   "outputs": [],
   "source": [
    "fileName    = \"lesson-05-number.txt\"\n",
    "fileNameOut = \"lesson-05-number-out.txt\"\n",
    "rusTitleNumber = {1:\"Один\", 2:\"Два\", 3:\"Три\", 4:\"Четыре\"}\n",
    "with open(fileName, \"r\", encoding = 'utf-8') as f:\n",
    "    \n",
    "    allNumber = {}\n",
    "    #Я пошел по пути пересборки данных\n",
    "    #Можно было бы заменой текста ещё сделать но мне такие способы меньше нравятся \n",
    "    for line in f:\n",
    "        engTilleNumber, someNumber = line.split(\"—\")\n",
    "        allNumber[int(someNumber)] = engTilleNumber.strip()\n",
    "    \n",
    "    with open(fileNameOut, \"w\", encoding = 'utf-8') as f_out:\n",
    "        rusNumber = [f\"{rusTitleNumber[key]} — {key}\\n\" for key in allNumber]\n",
    "        f_out.writelines(rusNumber)\n",
    "    "
   ]
  },
  {
   "cell_type": "markdown",
   "metadata": {},
   "source": [
    "### 5. Создать (программно) текстовый файл, записать в него программно набор чисел, разделённых пробелами. Программа должна подсчитывать сумму чисел в файле и выводить её на экран."
   ]
  },
  {
   "cell_type": "code",
   "execution_count": 28,
   "metadata": {},
   "outputs": [
    {
     "name": "stdout",
     "output_type": "stream",
     "text": [
      "Сумма чисел в файле = 3939\n"
     ]
    }
   ],
   "source": [
    "import random\n",
    "\n",
    "fileName = \"lesson-05-out-04.txt\"\n",
    "\n",
    "lstNum = [random.randrange(0,300) for n in range(25)]\n",
    "with open(fileName, \"w\", encoding = 'utf-8') as f_out:\n",
    "    f_out.write(\" \".join(map(str, lstNum)))\n",
    "\n",
    "# Так как написали что суммму чисел надо посчитать в файле, то прочитаем данные из файла для подсчёта\n",
    "with open(fileName, \"r\", encoding = 'utf-8') as f:\n",
    "    lstRead = list(map(int,f.readline().split(\" \")))\n",
    "    print(f\"Сумма чисел в файле = {sum(lstRead)}\")"
   ]
  },
  {
   "cell_type": "markdown",
   "metadata": {},
   "source": [
    "### 6. Сформировать (не программно) текстовый файл. В нём каждая строка должна описывать учебный предмет и наличие лекционных, практических и лабораторных занятий по предмету. Сюда должно входить и количество занятий. Необязательно, чтобы для каждого предмета были все типы занятий.\n",
    "Сформировать словарь, содержащий название предмета и общее количество занятий по нему. Вывести его на экран.\n",
    "Примеры строк файла: Информатика: 100(л) 50(пр) 20(лаб).\n",
    "Физика: 30(л) — 10(лаб)\n",
    "Физкультура: — 30(пр) —\n",
    "Пример словаря: {“Информатика”: 170, “Физика”: 40, “Физкультура”: 30}"
   ]
  },
  {
   "cell_type": "code",
   "execution_count": 46,
   "metadata": {},
   "outputs": [
    {
     "name": "stdout",
     "output_type": "stream",
     "text": [
      "{'Информатика': 170, 'Физика': 40, 'Физкультура': 30, 'Химия': 125, 'Философия': 138}\n"
     ]
    }
   ],
   "source": [
    "fileName = \"lesson-05-disciplines.txt\"\n",
    "disciplines = {}\n",
    "\n",
    "with open(fileName, \"r\", encoding = 'utf-8') as f:\n",
    "    for line in f:\n",
    "        titleDisp, itemsDisp = line.split(\":\")\n",
    "        \n",
    "        #Формат файла подразумевает позиционное размещение данных. \n",
    "        #мы уберем всё лишнее и оставим только числа проверок так как нам нужна только их сумма \n",
    "        \n",
    "        itemsDisp = itemsDisp.replace('(л)','').replace('(пр)','').replace('(лаб)','').\\\n",
    "                    replace('—','').replace('\\n','').split(\" \")\n",
    "        \n",
    "        disciplines[titleDisp] = sum([int(x) for x in itemsDisp if len(x)>0])\n",
    "\n",
    "print(disciplines)"
   ]
  },
  {
   "cell_type": "markdown",
   "metadata": {},
   "source": [
    "### 7. Создать вручную и заполнить несколькими строками текстовый файл, в котором каждая строка будет содержать данные о фирме: название, форма собственности, выручка, издержки.\n",
    "Пример строки файла: firm_1 ООО 10000 5000.\n",
    "\n",
    "Необходимо построчно прочитать файл, вычислить прибыль каждой компании, а также среднюю прибыль. Если фирма получила убытки, в расчёт средней прибыли её не включать.\n",
    "Далее реализовать список. Он должен содержать словарь с фирмами и их прибылями, а также словарь со средней прибылью. Если фирма получила убытки, также добавить её в словарь (со значением убытков).\n",
    "Пример списка: [{“firm_1”: 5000, “firm_2”: 3000, “firm_3”: 1000}, {“average_profit”: 2000}].\n",
    "\n",
    "Итоговый список сохранить в виде json-объекта в соответствующий файл.\n",
    "Пример json-объекта:\n",
    "[{\"firm_1\": 5000, \"firm_2\": 3000, \"firm_3\": 1000}, {\"average_profit\": 2000}]\n",
    "Подсказка: использовать менеджер контекста."
   ]
  },
  {
   "cell_type": "code",
   "execution_count": 67,
   "metadata": {},
   "outputs": [
    {
     "name": "stdout",
     "output_type": "stream",
     "text": [
      "[{'Рога и копыта': 5000, 'Сланец наше всё': 4100000, 'Корпорация зла': -100000, 'Прибор101': 167000, 'Пятерочка': -200000}, {'average_profit': 1424000.0}]\n"
     ]
    }
   ],
   "source": [
    "import json\n",
    "\n",
    "fileName = \"lesson-05-firms.txt\"\n",
    "\n",
    "with open(fileName, \"r\", encoding = 'utf-8') as f:\n",
    "    result, profit = [],[]\n",
    "    firms = {}\n",
    "    \n",
    "    for line in f:\n",
    "        oneFirm = line.replace('\\n','').split(\" \")\n",
    "        \n",
    "        #Разбирать будем с конца, чтобы название фирмы могло быть с пробелами\n",
    "        titleFirm = \" \".join(oneFirm[:-3])\n",
    "        firms[titleFirm] = int(oneFirm[-2]) - int(oneFirm[-1])\n",
    "        \n",
    "        #сразу посчитаем профит, чтобы потом снова не переибарть\n",
    "        if (firms[titleFirm] > 0): profit.append(firms[titleFirm])\n",
    "        \n",
    "    result = [firms,{\"average_profit\":sum(profit)/len(profit)}]\n",
    "    print(result)\n",
    "\n",
    "    with open(fileName.replace('.txt','.json'), \"w\", encoding = 'utf-8') as f_out:\n",
    "        json.dump(result, f_out, ensure_ascii=False)\n",
    "    \n",
    "    \n"
   ]
  }
 ],
 "metadata": {
  "kernelspec": {
   "display_name": "Python 3",
   "language": "python",
   "name": "python3"
  },
  "language_info": {
   "codemirror_mode": {
    "name": "ipython",
    "version": 3
   },
   "file_extension": ".py",
   "mimetype": "text/x-python",
   "name": "python",
   "nbconvert_exporter": "python",
   "pygments_lexer": "ipython3",
   "version": "3.7.7"
  }
 },
 "nbformat": 4,
 "nbformat_minor": 4
}
